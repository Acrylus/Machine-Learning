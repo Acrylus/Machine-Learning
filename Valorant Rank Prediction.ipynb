{
 "cells": [
  {
   "cell_type": "markdown",
   "id": "c72fbe39-0af7-4dfc-8178-3610867f4fdd",
   "metadata": {},
   "source": [
    "# **AI Valorant Rank Prediction**"
   ]
  },
  {
   "cell_type": "markdown",
   "id": "172a53fa-d82f-4909-8021-c3df65ecb4ad",
   "metadata": {},
   "source": [
    "## **Imports & Load**"
   ]
  },
  {
   "cell_type": "code",
   "execution_count": 1,
   "id": "e50d79bb-ebea-4095-ac6e-d1e44096af84",
   "metadata": {},
   "outputs": [],
   "source": [
    "import pandas as pd\n",
    "import numpy as np\n",
    "from sklearn.linear_model import LinearRegression\n",
    "from sklearn.model_selection import train_test_split\n",
    "from sklearn.metrics import mean_squared_error\n",
    "\n",
    "data = pd.read_csv('agents.csv')"
   ]
  },
  {
   "cell_type": "markdown",
   "id": "c91bd685-636c-4b33-895f-05e086f20267",
   "metadata": {},
   "source": [
    "## **Data Visualization**"
   ]
  },
  {
   "cell_type": "code",
   "execution_count": 2,
   "id": "fe63576f-e61f-417f-b04b-d2036b475fab",
   "metadata": {},
   "outputs": [
    {
     "data": {
      "text/html": [
       "<div>\n",
       "<style scoped>\n",
       "    .dataframe tbody tr th:only-of-type {\n",
       "        vertical-align: middle;\n",
       "    }\n",
       "\n",
       "    .dataframe tbody tr th {\n",
       "        vertical-align: top;\n",
       "    }\n",
       "\n",
       "    .dataframe thead th {\n",
       "        text-align: right;\n",
       "    }\n",
       "</style>\n",
       "<table border=\"1\" class=\"dataframe\">\n",
       "  <thead>\n",
       "    <tr style=\"text-align: right;\">\n",
       "      <th></th>\n",
       "      <th>agent</th>\n",
       "      <th>pick_rate</th>\n",
       "      <th>rounds</th>\n",
       "      <th>rating</th>\n",
       "      <th>ACS</th>\n",
       "      <th>K/D</th>\n",
       "      <th>ADR</th>\n",
       "      <th>KPR</th>\n",
       "      <th>DPR</th>\n",
       "      <th>APR</th>\n",
       "      <th>FBPR</th>\n",
       "      <th>FDPR</th>\n",
       "      <th>HS%</th>\n",
       "      <th>FBSR%</th>\n",
       "    </tr>\n",
       "  </thead>\n",
       "  <tbody>\n",
       "    <tr>\n",
       "      <th>0</th>\n",
       "      <td>Jett</td>\n",
       "      <td>78.14%</td>\n",
       "      <td>462467</td>\n",
       "      <td>1.08</td>\n",
       "      <td>232.8</td>\n",
       "      <td>1.10</td>\n",
       "      <td>148.7</td>\n",
       "      <td>0.82</td>\n",
       "      <td>0.74</td>\n",
       "      <td>0.16</td>\n",
       "      <td>0.19</td>\n",
       "      <td>0.16</td>\n",
       "      <td>25%</td>\n",
       "      <td>54%</td>\n",
       "    </tr>\n",
       "    <tr>\n",
       "      <th>1</th>\n",
       "      <td>Sova</td>\n",
       "      <td>76.00%</td>\n",
       "      <td>450157</td>\n",
       "      <td>0.97</td>\n",
       "      <td>194.6</td>\n",
       "      <td>0.98</td>\n",
       "      <td>133.5</td>\n",
       "      <td>0.66</td>\n",
       "      <td>0.68</td>\n",
       "      <td>0.32</td>\n",
       "      <td>0.06</td>\n",
       "      <td>0.06</td>\n",
       "      <td>25%</td>\n",
       "      <td>49%</td>\n",
       "    </tr>\n",
       "    <tr>\n",
       "      <th>2</th>\n",
       "      <td>Astra</td>\n",
       "      <td>48.14%</td>\n",
       "      <td>284853</td>\n",
       "      <td>0.98</td>\n",
       "      <td>186.6</td>\n",
       "      <td>0.99</td>\n",
       "      <td>123.8</td>\n",
       "      <td>0.68</td>\n",
       "      <td>0.68</td>\n",
       "      <td>0.32</td>\n",
       "      <td>0.07</td>\n",
       "      <td>0.07</td>\n",
       "      <td>26%</td>\n",
       "      <td>48%</td>\n",
       "    </tr>\n",
       "    <tr>\n",
       "      <th>3</th>\n",
       "      <td>Viper</td>\n",
       "      <td>42.67%</td>\n",
       "      <td>253988</td>\n",
       "      <td>0.95</td>\n",
       "      <td>193.1</td>\n",
       "      <td>0.97</td>\n",
       "      <td>128.4</td>\n",
       "      <td>0.67</td>\n",
       "      <td>0.69</td>\n",
       "      <td>0.28</td>\n",
       "      <td>0.08</td>\n",
       "      <td>0.09</td>\n",
       "      <td>25%</td>\n",
       "      <td>46%</td>\n",
       "    </tr>\n",
       "    <tr>\n",
       "      <th>4</th>\n",
       "      <td>Killjoy</td>\n",
       "      <td>34.27%</td>\n",
       "      <td>202132</td>\n",
       "      <td>0.91</td>\n",
       "      <td>197.4</td>\n",
       "      <td>1.00</td>\n",
       "      <td>134.3</td>\n",
       "      <td>0.69</td>\n",
       "      <td>0.69</td>\n",
       "      <td>0.18</td>\n",
       "      <td>0.08</td>\n",
       "      <td>0.09</td>\n",
       "      <td>22%</td>\n",
       "      <td>48%</td>\n",
       "    </tr>\n",
       "  </tbody>\n",
       "</table>\n",
       "</div>"
      ],
      "text/plain": [
       "     agent pick_rate  rounds  rating    ACS   K/D    ADR   KPR   DPR   APR  \\\n",
       "0     Jett    78.14%  462467    1.08  232.8  1.10  148.7  0.82  0.74  0.16   \n",
       "1     Sova    76.00%  450157    0.97  194.6  0.98  133.5  0.66  0.68  0.32   \n",
       "2    Astra    48.14%  284853    0.98  186.6  0.99  123.8  0.68  0.68  0.32   \n",
       "3    Viper    42.67%  253988    0.95  193.1  0.97  128.4  0.67  0.69  0.28   \n",
       "4  Killjoy    34.27%  202132    0.91  197.4  1.00  134.3  0.69  0.69  0.18   \n",
       "\n",
       "   FBPR  FDPR  HS% FBSR%  \n",
       "0  0.19  0.16  25%   54%  \n",
       "1  0.06  0.06  25%   49%  \n",
       "2  0.07  0.07  26%   48%  \n",
       "3  0.08  0.09  25%   46%  \n",
       "4  0.08  0.09  22%   48%  "
      ]
     },
     "execution_count": 2,
     "metadata": {},
     "output_type": "execute_result"
    }
   ],
   "source": [
    "data.head()"
   ]
  },
  {
   "cell_type": "code",
   "execution_count": 3,
   "id": "0fe70c40-2ded-4462-a3e8-ce4cb9b2d270",
   "metadata": {},
   "outputs": [
    {
     "name": "stdout",
     "output_type": "stream",
     "text": [
      "<class 'pandas.core.frame.DataFrame'>\n",
      "RangeIndex: 18 entries, 0 to 17\n",
      "Data columns (total 14 columns):\n",
      " #   Column     Non-Null Count  Dtype  \n",
      "---  ------     --------------  -----  \n",
      " 0   agent      18 non-null     object \n",
      " 1   pick_rate  18 non-null     object \n",
      " 2   rounds     18 non-null     int64  \n",
      " 3   rating     18 non-null     float64\n",
      " 4   ACS        18 non-null     float64\n",
      " 5   K/D        18 non-null     float64\n",
      " 6   ADR        18 non-null     float64\n",
      " 7   KPR        18 non-null     float64\n",
      " 8   DPR        18 non-null     float64\n",
      " 9   APR        18 non-null     float64\n",
      " 10  FBPR       18 non-null     float64\n",
      " 11  FDPR       18 non-null     float64\n",
      " 12  HS%        18 non-null     object \n",
      " 13  FBSR%      18 non-null     object \n",
      "dtypes: float64(9), int64(1), object(4)\n",
      "memory usage: 2.1+ KB\n"
     ]
    }
   ],
   "source": [
    "data.info()"
   ]
  },
  {
   "cell_type": "markdown",
   "id": "a4ceeb31-87e9-457b-95dc-f2dd5a0437b1",
   "metadata": {},
   "source": [
    "## **Data Cleaning**"
   ]
  },
  {
   "cell_type": "code",
   "execution_count": 4,
   "id": "c0b61682-2886-4d58-a20b-fc682b4043a5",
   "metadata": {},
   "outputs": [],
   "source": [
    "data.drop(['agent', 'pick_rate'], axis=1, inplace=True)\n",
    "data['HS%'] = data['HS%'].str.replace('%', '').astype(float)\n",
    "data['FBSR%'] = data['FBSR%'].str.replace('%', '').astype(float)"
   ]
  },
  {
   "cell_type": "code",
   "execution_count": 5,
   "id": "c2a07429-ba0d-4c02-8b40-7612e9e8e832",
   "metadata": {},
   "outputs": [
    {
     "name": "stdout",
     "output_type": "stream",
     "text": [
      "rounds    0\n",
      "rating    0\n",
      "ACS       0\n",
      "K/D       0\n",
      "ADR       0\n",
      "KPR       0\n",
      "DPR       0\n",
      "APR       0\n",
      "FBPR      0\n",
      "FDPR      0\n",
      "HS%       0\n",
      "FBSR%     0\n",
      "dtype: int64\n"
     ]
    }
   ],
   "source": [
    "print(data.isnull().sum())"
   ]
  },
  {
   "cell_type": "markdown",
   "id": "6c661f52-39b3-4c3a-a09d-2f84b55707ae",
   "metadata": {},
   "source": [
    "## **Processed Data**"
   ]
  },
  {
   "cell_type": "code",
   "execution_count": 6,
   "id": "5abc7e21-bdd5-4575-98ed-f42f07d851e5",
   "metadata": {},
   "outputs": [
    {
     "name": "stdout",
     "output_type": "stream",
     "text": [
      "<class 'pandas.core.frame.DataFrame'>\n",
      "RangeIndex: 18 entries, 0 to 17\n",
      "Data columns (total 12 columns):\n",
      " #   Column  Non-Null Count  Dtype  \n",
      "---  ------  --------------  -----  \n",
      " 0   rounds  18 non-null     int64  \n",
      " 1   rating  18 non-null     float64\n",
      " 2   ACS     18 non-null     float64\n",
      " 3   K/D     18 non-null     float64\n",
      " 4   ADR     18 non-null     float64\n",
      " 5   KPR     18 non-null     float64\n",
      " 6   DPR     18 non-null     float64\n",
      " 7   APR     18 non-null     float64\n",
      " 8   FBPR    18 non-null     float64\n",
      " 9   FDPR    18 non-null     float64\n",
      " 10  HS%     18 non-null     float64\n",
      " 11  FBSR%   18 non-null     float64\n",
      "dtypes: float64(11), int64(1)\n",
      "memory usage: 1.8 KB\n"
     ]
    },
    {
     "data": {
      "text/html": [
       "<div>\n",
       "<style scoped>\n",
       "    .dataframe tbody tr th:only-of-type {\n",
       "        vertical-align: middle;\n",
       "    }\n",
       "\n",
       "    .dataframe tbody tr th {\n",
       "        vertical-align: top;\n",
       "    }\n",
       "\n",
       "    .dataframe thead th {\n",
       "        text-align: right;\n",
       "    }\n",
       "</style>\n",
       "<table border=\"1\" class=\"dataframe\">\n",
       "  <thead>\n",
       "    <tr style=\"text-align: right;\">\n",
       "      <th></th>\n",
       "      <th>rounds</th>\n",
       "      <th>rating</th>\n",
       "      <th>ACS</th>\n",
       "      <th>K/D</th>\n",
       "      <th>ADR</th>\n",
       "      <th>KPR</th>\n",
       "      <th>DPR</th>\n",
       "      <th>APR</th>\n",
       "      <th>FBPR</th>\n",
       "      <th>FDPR</th>\n",
       "      <th>HS%</th>\n",
       "      <th>FBSR%</th>\n",
       "    </tr>\n",
       "  </thead>\n",
       "  <tbody>\n",
       "    <tr>\n",
       "      <th>count</th>\n",
       "      <td>18.000000</td>\n",
       "      <td>18.000000</td>\n",
       "      <td>18.000000</td>\n",
       "      <td>18.000000</td>\n",
       "      <td>18.000000</td>\n",
       "      <td>18.000000</td>\n",
       "      <td>18.000000</td>\n",
       "      <td>18.000000</td>\n",
       "      <td>18.000000</td>\n",
       "      <td>18.000000</td>\n",
       "      <td>18.000000</td>\n",
       "      <td>18.000000</td>\n",
       "    </tr>\n",
       "    <tr>\n",
       "      <th>mean</th>\n",
       "      <td>164091.888889</td>\n",
       "      <td>0.981111</td>\n",
       "      <td>201.588889</td>\n",
       "      <td>0.984444</td>\n",
       "      <td>133.077778</td>\n",
       "      <td>0.704444</td>\n",
       "      <td>0.715556</td>\n",
       "      <td>0.257778</td>\n",
       "      <td>0.100556</td>\n",
       "      <td>0.104444</td>\n",
       "      <td>24.444444</td>\n",
       "      <td>48.500000</td>\n",
       "    </tr>\n",
       "    <tr>\n",
       "      <th>std</th>\n",
       "      <td>133889.186290</td>\n",
       "      <td>0.058801</td>\n",
       "      <td>19.217483</td>\n",
       "      <td>0.062140</td>\n",
       "      <td>12.056902</td>\n",
       "      <td>0.062235</td>\n",
       "      <td>0.027273</td>\n",
       "      <td>0.088088</td>\n",
       "      <td>0.038877</td>\n",
       "      <td>0.031478</td>\n",
       "      <td>2.092626</td>\n",
       "      <td>2.915476</td>\n",
       "    </tr>\n",
       "    <tr>\n",
       "      <th>min</th>\n",
       "      <td>1978.000000</td>\n",
       "      <td>0.900000</td>\n",
       "      <td>175.000000</td>\n",
       "      <td>0.900000</td>\n",
       "      <td>117.100000</td>\n",
       "      <td>0.630000</td>\n",
       "      <td>0.680000</td>\n",
       "      <td>0.150000</td>\n",
       "      <td>0.060000</td>\n",
       "      <td>0.060000</td>\n",
       "      <td>18.000000</td>\n",
       "      <td>45.000000</td>\n",
       "    </tr>\n",
       "    <tr>\n",
       "      <th>25%</th>\n",
       "      <td>82658.250000</td>\n",
       "      <td>0.932500</td>\n",
       "      <td>186.850000</td>\n",
       "      <td>0.942500</td>\n",
       "      <td>124.050000</td>\n",
       "      <td>0.660000</td>\n",
       "      <td>0.700000</td>\n",
       "      <td>0.180000</td>\n",
       "      <td>0.070000</td>\n",
       "      <td>0.082500</td>\n",
       "      <td>24.250000</td>\n",
       "      <td>46.250000</td>\n",
       "    </tr>\n",
       "    <tr>\n",
       "      <th>50%</th>\n",
       "      <td>147818.000000</td>\n",
       "      <td>0.975000</td>\n",
       "      <td>194.050000</td>\n",
       "      <td>0.975000</td>\n",
       "      <td>130.000000</td>\n",
       "      <td>0.675000</td>\n",
       "      <td>0.705000</td>\n",
       "      <td>0.255000</td>\n",
       "      <td>0.080000</td>\n",
       "      <td>0.095000</td>\n",
       "      <td>25.000000</td>\n",
       "      <td>48.000000</td>\n",
       "    </tr>\n",
       "    <tr>\n",
       "      <th>75%</th>\n",
       "      <td>203398.750000</td>\n",
       "      <td>1.020000</td>\n",
       "      <td>217.825000</td>\n",
       "      <td>1.037500</td>\n",
       "      <td>142.375000</td>\n",
       "      <td>0.765000</td>\n",
       "      <td>0.740000</td>\n",
       "      <td>0.320000</td>\n",
       "      <td>0.130000</td>\n",
       "      <td>0.120000</td>\n",
       "      <td>25.750000</td>\n",
       "      <td>49.750000</td>\n",
       "    </tr>\n",
       "    <tr>\n",
       "      <th>max</th>\n",
       "      <td>462467.000000</td>\n",
       "      <td>1.080000</td>\n",
       "      <td>236.100000</td>\n",
       "      <td>1.100000</td>\n",
       "      <td>156.600000</td>\n",
       "      <td>0.820000</td>\n",
       "      <td>0.760000</td>\n",
       "      <td>0.430000</td>\n",
       "      <td>0.190000</td>\n",
       "      <td>0.170000</td>\n",
       "      <td>27.000000</td>\n",
       "      <td>55.000000</td>\n",
       "    </tr>\n",
       "  </tbody>\n",
       "</table>\n",
       "</div>"
      ],
      "text/plain": [
       "              rounds     rating         ACS        K/D         ADR        KPR  \\\n",
       "count      18.000000  18.000000   18.000000  18.000000   18.000000  18.000000   \n",
       "mean   164091.888889   0.981111  201.588889   0.984444  133.077778   0.704444   \n",
       "std    133889.186290   0.058801   19.217483   0.062140   12.056902   0.062235   \n",
       "min      1978.000000   0.900000  175.000000   0.900000  117.100000   0.630000   \n",
       "25%     82658.250000   0.932500  186.850000   0.942500  124.050000   0.660000   \n",
       "50%    147818.000000   0.975000  194.050000   0.975000  130.000000   0.675000   \n",
       "75%    203398.750000   1.020000  217.825000   1.037500  142.375000   0.765000   \n",
       "max    462467.000000   1.080000  236.100000   1.100000  156.600000   0.820000   \n",
       "\n",
       "             DPR        APR       FBPR       FDPR        HS%      FBSR%  \n",
       "count  18.000000  18.000000  18.000000  18.000000  18.000000  18.000000  \n",
       "mean    0.715556   0.257778   0.100556   0.104444  24.444444  48.500000  \n",
       "std     0.027273   0.088088   0.038877   0.031478   2.092626   2.915476  \n",
       "min     0.680000   0.150000   0.060000   0.060000  18.000000  45.000000  \n",
       "25%     0.700000   0.180000   0.070000   0.082500  24.250000  46.250000  \n",
       "50%     0.705000   0.255000   0.080000   0.095000  25.000000  48.000000  \n",
       "75%     0.740000   0.320000   0.130000   0.120000  25.750000  49.750000  \n",
       "max     0.760000   0.430000   0.190000   0.170000  27.000000  55.000000  "
      ]
     },
     "execution_count": 6,
     "metadata": {},
     "output_type": "execute_result"
    }
   ],
   "source": [
    "data.info()\n",
    "\n",
    "data.describe()"
   ]
  },
  {
   "cell_type": "markdown",
   "id": "721a0963-aec2-4562-adc0-27fe1856a25c",
   "metadata": {},
   "source": [
    "## **Model Training using Multiple Linear Regression**"
   ]
  },
  {
   "cell_type": "code",
   "execution_count": 7,
   "id": "3f49c9a2-d9ab-4a50-984c-c806189044e3",
   "metadata": {},
   "outputs": [
    {
     "name": "stdout",
     "output_type": "stream",
     "text": [
      "(18, 11)\n",
      "(18,)\n"
     ]
    }
   ],
   "source": [
    "X = data.drop(['rating'], axis=1)\n",
    "y = data['rating']\n",
    "\n",
    "print(X.shape)\n",
    "print(y.shape)\n",
    "\n",
    "X_train, X_test, y_train, y_test = train_test_split(X, y, test_size=0.2, random_state=42)\n",
    "\n",
    "model = LinearRegression()\n",
    "model.fit(X_train, y_train)\n",
    "\n",
    "prediction = model.predict(X_test)"
   ]
  },
  {
   "cell_type": "markdown",
   "id": "338bc35c-f566-4cbd-8475-3c8abbc82009",
   "metadata": {},
   "source": [
    "## **Ranking Logic**"
   ]
  },
  {
   "cell_type": "code",
   "execution_count": 8,
   "id": "136084cf-dc32-41eb-8216-f8432715b0dc",
   "metadata": {},
   "outputs": [],
   "source": [
    "ranks = {\n",
    "    \"Iron\": 0,\n",
    "    \"Bronze\": 0.5,\n",
    "    \"Silver\": 1,\n",
    "    \"Gold\": 1.5,\n",
    "    \"Platinum\": 2,\n",
    "    \"Diamond\": 2.5,\n",
    "    \"Immortal\": 3,\n",
    "    \"Radiant\": 3.5\n",
    "}\n",
    "\n",
    "average = np.mean(prediction)\n",
    "                \n",
    "def fuzzy(value, ranks):\n",
    "    for rank, holder in ranks.items():\n",
    "        if value < holder:\n",
    "            return rank\n",
    "        elif value >= holder and rank == \"Radiant\":\n",
    "            return rank\n",
    "    return \"Error\"\n",
    "    \n",
    "predicted_rank = fuzzy(average, ranks)"
   ]
  },
  {
   "cell_type": "markdown",
   "id": "c3f7e8ce-9631-4836-b3de-d6e695e5ff91",
   "metadata": {},
   "source": [
    "## **Prediction**"
   ]
  },
  {
   "cell_type": "code",
   "execution_count": 9,
   "id": "bee2e88f-f773-40ad-8d3b-118322bc0718",
   "metadata": {},
   "outputs": [
    {
     "name": "stdout",
     "output_type": "stream",
     "text": [
      "Predicted Rank: Gold\n"
     ]
    }
   ],
   "source": [
    "print(\"Predicted Rank:\", predicted_rank)"
   ]
  },
  {
   "cell_type": "markdown",
   "id": "556e4916-66ff-4f2d-b5d1-8c21cd0899dd",
   "metadata": {},
   "source": [
    "## **Performance Measures**"
   ]
  },
  {
   "cell_type": "code",
   "execution_count": 10,
   "id": "b4b55a30-1929-434e-bbd1-73956c26f853",
   "metadata": {},
   "outputs": [
    {
     "name": "stdout",
     "output_type": "stream",
     "text": [
      "0.0004097323875198423\n"
     ]
    }
   ],
   "source": [
    "print(mean_squared_error(y_test, prediction))"
   ]
  },
  {
   "cell_type": "code",
   "execution_count": null,
   "id": "8f725f63-7060-465e-9af1-fbc6794952f4",
   "metadata": {},
   "outputs": [],
   "source": []
  }
 ],
 "metadata": {
  "kernelspec": {
   "display_name": "Python 3 (ipykernel)",
   "language": "python",
   "name": "python3"
  },
  "language_info": {
   "codemirror_mode": {
    "name": "ipython",
    "version": 3
   },
   "file_extension": ".py",
   "mimetype": "text/x-python",
   "name": "python",
   "nbconvert_exporter": "python",
   "pygments_lexer": "ipython3",
   "version": "3.12.1"
  }
 },
 "nbformat": 4,
 "nbformat_minor": 5
}
